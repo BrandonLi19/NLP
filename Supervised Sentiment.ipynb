{
 "cells": [
  {
   "cell_type": "markdown",
   "metadata": {},
   "source": [
    "# Sentiment Analysis"
   ]
  },
  {
   "cell_type": "code",
   "execution_count": 1,
   "metadata": {},
   "outputs": [],
   "source": [
    "# import packages\n",
    "from sklearn import metrics \n",
    "import numpy as np \n",
    "import pandas as pd \n",
    "import glob, os  \n",
    "from sklearn.utils import resample\n",
    "from sklearn.tree import DecisionTreeClassifier\n",
    "from sklearn.metrics import accuracy_score\n",
    "from matplotlib import pyplot\n",
    "from sklearn.feature_extraction.text import CountVectorizer, TfidfVectorizer"
   ]
  },
  {
   "cell_type": "markdown",
   "metadata": {},
   "source": [
    "## load and reduce data to 10000 rows, normalize"
   ]
  },
  {
   "cell_type": "code",
   "execution_count": 2,
   "metadata": {},
   "outputs": [],
   "source": [
    "df = pd.read_csv(\"./Reviews.csv\")"
   ]
  },
  {
   "cell_type": "code",
   "execution_count": 3,
   "metadata": {},
   "outputs": [],
   "source": [
    "df_sub = df.sample(n=10000, random_state=44)"
   ]
  },
  {
   "cell_type": "code",
   "execution_count": 4,
   "metadata": {
    "scrolled": true
   },
   "outputs": [
    {
     "name": "stdout",
     "output_type": "stream",
     "text": [
      "Collecting html.parser\n",
      "Requirement already satisfied: ply in /anaconda3/lib/python3.6/site-packages (from html.parser) (3.10)\n",
      "Installing collected packages: html.parser\n",
      "Successfully installed html.parser\n",
      "Requirement already satisfied: pattern3 in /anaconda3/lib/python3.6/site-packages (3.0.0)\n",
      "Requirement already satisfied: beautifulsoup4 in /anaconda3/lib/python3.6/site-packages (from pattern3) (4.6.0)\n",
      "Requirement already satisfied: pdfminer3k in /anaconda3/lib/python3.6/site-packages (from pattern3) (1.3.1)\n",
      "Requirement already satisfied: simplejson in /anaconda3/lib/python3.6/site-packages (from pattern3) (3.16.0)\n",
      "Requirement already satisfied: cherrypy in /anaconda3/lib/python3.6/site-packages (from pattern3) (18.1.1)\n",
      "Requirement already satisfied: feedparser in /anaconda3/lib/python3.6/site-packages (from pattern3) (5.2.1)\n",
      "Requirement already satisfied: pdfminer.six in /anaconda3/lib/python3.6/site-packages (from pattern3) (20181108)\n",
      "Requirement already satisfied: docx in /anaconda3/lib/python3.6/site-packages (from pattern3) (0.2.4)\n",
      "Requirement already satisfied: ply>=3.4 in /anaconda3/lib/python3.6/site-packages (from pdfminer3k->pattern3) (3.10)\n",
      "Requirement already satisfied: pytest>=2.0 in /anaconda3/lib/python3.6/site-packages (from pdfminer3k->pattern3) (3.3.2)\n",
      "Requirement already satisfied: more-itertools in /anaconda3/lib/python3.6/site-packages (from cherrypy->pattern3) (7.0.0)\n",
      "Requirement already satisfied: cheroot>=6.2.4 in /anaconda3/lib/python3.6/site-packages (from cherrypy->pattern3) (6.5.4)\n",
      "Requirement already satisfied: zc.lockfile in /anaconda3/lib/python3.6/site-packages (from cherrypy->pattern3) (1.4)\n",
      "Requirement already satisfied: portend>=2.1.1 in /anaconda3/lib/python3.6/site-packages (from cherrypy->pattern3) (2.4)\n",
      "Requirement already satisfied: sortedcontainers in /anaconda3/lib/python3.6/site-packages (from pdfminer.six->pattern3) (1.5.9)\n",
      "Requirement already satisfied: pycryptodome in /anaconda3/lib/python3.6/site-packages (from pdfminer.six->pattern3) (3.8.1)\n",
      "Requirement already satisfied: six in /anaconda3/lib/python3.6/site-packages (from pdfminer.six->pattern3) (1.11.0)\n",
      "Requirement already satisfied: Pillow>=2.0 in /anaconda3/lib/python3.6/site-packages (from docx->pattern3) (5.0.0)\n",
      "Requirement already satisfied: lxml in /anaconda3/lib/python3.6/site-packages (from docx->pattern3) (4.1.1)\n",
      "Requirement already satisfied: py>=1.5.0 in /anaconda3/lib/python3.6/site-packages (from pytest>=2.0->pdfminer3k->pattern3) (1.5.2)\n",
      "Requirement already satisfied: setuptools in /anaconda3/lib/python3.6/site-packages (from pytest>=2.0->pdfminer3k->pattern3) (38.4.0)\n",
      "Requirement already satisfied: attrs>=17.2.0 in /anaconda3/lib/python3.6/site-packages (from pytest>=2.0->pdfminer3k->pattern3) (17.4.0)\n",
      "Requirement already satisfied: pluggy<0.7,>=0.5 in /anaconda3/lib/python3.6/site-packages (from pytest>=2.0->pdfminer3k->pattern3) (0.6.0)\n",
      "Requirement already satisfied: backports.functools-lru-cache in /anaconda3/lib/python3.6/site-packages (from cheroot>=6.2.4->cherrypy->pattern3) (1.5)\n",
      "Requirement already satisfied: tempora>=1.8 in /anaconda3/lib/python3.6/site-packages (from portend>=2.1.1->cherrypy->pattern3) (1.14)\n",
      "Requirement already satisfied: jaraco.functools>=1.20 in /anaconda3/lib/python3.6/site-packages (from tempora>=1.8->portend>=2.1.1->cherrypy->pattern3) (2.0)\n",
      "Requirement already satisfied: pytz in /anaconda3/lib/python3.6/site-packages (from tempora>=1.8->portend>=2.1.1->cherrypy->pattern3) (2017.3)\n",
      "Requirement already satisfied: pyLDAvis in /anaconda3/lib/python3.6/site-packages (2.1.2)\n",
      "Requirement already satisfied: numpy>=1.9.2 in /anaconda3/lib/python3.6/site-packages (from pyLDAvis) (1.14.2)\n",
      "Requirement already satisfied: wheel>=0.23.0 in /anaconda3/lib/python3.6/site-packages (from pyLDAvis) (0.30.0)\n",
      "Requirement already satisfied: future in /anaconda3/lib/python3.6/site-packages (from pyLDAvis) (0.17.1)\n",
      "Requirement already satisfied: numexpr in /anaconda3/lib/python3.6/site-packages (from pyLDAvis) (2.6.4)\n",
      "Requirement already satisfied: scipy>=0.18.0 in /anaconda3/lib/python3.6/site-packages (from pyLDAvis) (1.1.0)\n",
      "Requirement already satisfied: funcy in /anaconda3/lib/python3.6/site-packages (from pyLDAvis) (1.11)\n",
      "Requirement already satisfied: pandas>=0.17.0 in /anaconda3/lib/python3.6/site-packages (from pyLDAvis) (0.23.4)\n",
      "Requirement already satisfied: pytest in /anaconda3/lib/python3.6/site-packages (from pyLDAvis) (3.3.2)\n",
      "Requirement already satisfied: joblib>=0.8.4 in /anaconda3/lib/python3.6/site-packages (from pyLDAvis) (0.13.2)\n",
      "Requirement already satisfied: jinja2>=2.7.2 in /anaconda3/lib/python3.6/site-packages (from pyLDAvis) (2.10)\n",
      "Requirement already satisfied: python-dateutil>=2.5.0 in /anaconda3/lib/python3.6/site-packages (from pandas>=0.17.0->pyLDAvis) (2.6.1)\n",
      "Requirement already satisfied: pytz>=2011k in /anaconda3/lib/python3.6/site-packages (from pandas>=0.17.0->pyLDAvis) (2017.3)\n",
      "Requirement already satisfied: py>=1.5.0 in /anaconda3/lib/python3.6/site-packages (from pytest->pyLDAvis) (1.5.2)\n",
      "Requirement already satisfied: six>=1.10.0 in /anaconda3/lib/python3.6/site-packages (from pytest->pyLDAvis) (1.11.0)\n",
      "Requirement already satisfied: setuptools in /anaconda3/lib/python3.6/site-packages (from pytest->pyLDAvis) (38.4.0)\n",
      "Requirement already satisfied: attrs>=17.2.0 in /anaconda3/lib/python3.6/site-packages (from pytest->pyLDAvis) (17.4.0)\n",
      "Requirement already satisfied: pluggy<0.7,>=0.5 in /anaconda3/lib/python3.6/site-packages (from pytest->pyLDAvis) (0.6.0)\n",
      "Requirement already satisfied: MarkupSafe>=0.23 in /anaconda3/lib/python3.6/site-packages (from jinja2>=2.7.2->pyLDAvis) (1.0)\n",
      "Original:   <p>The circus dog in a plissé skirt jumped over Python who wasn't that large, just 3 feet long.</p>\n",
      "Processed:  ['<', 'p', '>', 'The', 'circus', 'dog', 'in', 'a', 'plissé', 'skirt', 'jumped', 'over', 'Python', 'who', 'was', \"n't\", 'that', 'large', ',', 'just', '3', 'feet', 'long.', '<', '/p', '>']\n",
      "Original:   <p>The circus dog in a plissé skirt jumped over Python who wasn't that large, just 3 feet long.</p>\n",
      "Processed:  <p>The circus dog in a plissé skirt jumped over Python who was not that large, just 3 feet long.</p>\n",
      "Original:   <p>The circus dog in a plissé skirt jumped over Python who wasn't that large, just 3 feet long.</p>\n",
      "Processed:  [('<', 'a'), ('p', 'n'), ('>', 'v'), ('the', None), ('circus', 'n'), ('dog', 'n'), ('in', None), ('a', None), ('plissé', 'n'), ('skirt', 'n'), ('jumped', 'v'), ('over', None), ('python', 'n'), ('who', None), ('was', 'v'), (\"n't\", 'r'), ('that', None), ('large', 'a'), (',', None), ('just', 'r'), ('3', None), ('feet', 'n'), ('long.', 'a'), ('<', 'n'), ('/p', 'n'), ('>', 'n')]\n",
      "Original:   <p>The circus dog in a plissé skirt jumped over Python who wasn't that large, just 3 feet long.</p>\n",
      "Processed:  < p > the circus dog in a plissé skirt jump over python who be n't that large , just 3 foot long. < /p >\n",
      "Original:   <p>The circus dog in a plissé skirt jumped over Python who wasn't that large, just 3 feet long.</p>\n",
      "Processed:    p   The circus dog in a plissé skirt jumped over Python who was n t that large   just 3 feet long     p  \n",
      "Original:   <p>The circus dog in a plissé skirt jumped over Python who wasn't that large, just 3 feet long.</p>\n",
      "Processed:  < p > The circus dog plissé skirt jumped Python n't large , 3 feet long. < /p >\n",
      "Original:   <p>The circus dog in a plissé skirt jumped over Python who wasn't that large, just 3 feet long.</p>\n",
      "Processed:  p The circus dog in a plissé skirt jumped over Python who was n't that large just feet long. /p\n",
      "Original:   <p>The circus dog in a plissé skirt jumped over Python who wasn't that large, just 3 feet long.</p>\n",
      "Processed:  The circus dog in a plissé skirt jumped over Python who wasn't that large, just 3 feet long.\n",
      "Original:   <p>The circus dog in a plissé skirt jumped over Python who wasn't that large, just 3 feet long.</p>\n",
      "Processed:  <p>The circus dog in a plisse skirt jumped over Python who wasn't that large, just 3 feet long.</p>\n",
      "Original:   [\"<p>The circus dog in a plissé skirt jumped over Python who wasn't that large, just 3 feet long.</p>\", \"<p>The circus dog in a plissé skirt jumped over Python who wasn't that large, just 3 feet long.</p>\"] \n",
      "\n",
      "Processed:  ['circus dog plisse skirt jump python large foot long', 'circus dog plisse skirt jump python large foot long']\n"
     ]
    }
   ],
   "source": [
    "%run ./Text_Normalization_Function.ipynb"
   ]
  },
  {
   "cell_type": "code",
   "execution_count": 5,
   "metadata": {},
   "outputs": [],
   "source": [
    "norm_sub = normalize_corpus(df_sub['Text'])"
   ]
  },
  {
   "cell_type": "code",
   "execution_count": null,
   "metadata": {},
   "outputs": [],
   "source": [
    "norm_sub"
   ]
  },
  {
   "cell_type": "code",
   "execution_count": 6,
   "metadata": {},
   "outputs": [],
   "source": [
    "df_sub['Normalized_Text'] = norm_sub"
   ]
  },
  {
   "cell_type": "code",
   "execution_count": 7,
   "metadata": {},
   "outputs": [],
   "source": [
    "df_sub.to_csv('Reviews_sub_10000.csv')"
   ]
  },
  {
   "cell_type": "markdown",
   "metadata": {},
   "source": [
    "## Split data to train and test"
   ]
  },
  {
   "cell_type": "code",
   "execution_count": 8,
   "metadata": {},
   "outputs": [],
   "source": [
    "import random"
   ]
  },
  {
   "cell_type": "code",
   "execution_count": 9,
   "metadata": {},
   "outputs": [],
   "source": [
    "random.seed(44)\n",
    "rand_state = np.random.uniform(low = 0, high = 1, size = int(df_sub.shape[0]))\n",
    "df_sub['rand'] = rand_state"
   ]
  },
  {
   "cell_type": "code",
   "execution_count": 10,
   "metadata": {},
   "outputs": [],
   "source": [
    "df_train = df_sub[df_sub['rand'] <= 0.5]\n",
    "df_test = df_sub[df_sub['rand']>0.5]"
   ]
  },
  {
   "cell_type": "code",
   "execution_count": 11,
   "metadata": {},
   "outputs": [
    {
     "name": "stdout",
     "output_type": "stream",
     "text": [
      "(4917, 12)\n",
      "(5083, 12)\n"
     ]
    }
   ],
   "source": [
    "print(df_test.shape)\n",
    "print(df_train.shape)"
   ]
  },
  {
   "cell_type": "code",
   "execution_count": 12,
   "metadata": {},
   "outputs": [
    {
     "data": {
      "text/plain": [
       "array([5, 2, 4, 3, 1], dtype=int64)"
      ]
     },
     "execution_count": 12,
     "metadata": {},
     "output_type": "execute_result"
    }
   ],
   "source": [
    "df_sub['Score'].unique()"
   ]
  },
  {
   "cell_type": "markdown",
   "metadata": {},
   "source": [
    "# Set label Ys(Sentiment) for data based on Score\n",
    "\n",
    "**Two standards for y:<br/> 1. Threshold = 2, Y = \"Negative\" if Score <=2, Y = \"Positive\" if Score > 2. <br/> 2. Threshold = 3, Y = \"Negative\" if Score <= 3, Y = \"Positive\" if Score > 3.**"
   ]
  },
  {
   "cell_type": "code",
   "execution_count": 43,
   "metadata": {
    "scrolled": true
   },
   "outputs": [
    {
     "name": "stdout",
     "output_type": "stream",
     "text": [
      "4369\n",
      "714\n",
      "3990\n",
      "1093\n"
     ]
    },
    {
     "name": "stderr",
     "output_type": "stream",
     "text": [
      "D:\\Software\\Anaconda\\lib\\site-packages\\ipykernel_launcher.py:11: SettingWithCopyWarning: \n",
      "A value is trying to be set on a copy of a slice from a DataFrame.\n",
      "Try using .loc[row_indexer,col_indexer] = value instead\n",
      "\n",
      "See the caveats in the documentation: http://pandas.pydata.org/pandas-docs/stable/indexing.html#indexing-view-versus-copy\n",
      "  # This is added back by InteractiveShellApp.init_path()\n",
      "D:\\Software\\Anaconda\\lib\\site-packages\\ipykernel_launcher.py:12: SettingWithCopyWarning: \n",
      "A value is trying to be set on a copy of a slice from a DataFrame.\n",
      "Try using .loc[row_indexer,col_indexer] = value instead\n",
      "\n",
      "See the caveats in the documentation: http://pandas.pydata.org/pandas-docs/stable/indexing.html#indexing-view-versus-copy\n",
      "  if sys.path[0] == '':\n",
      "D:\\Software\\Anaconda\\lib\\site-packages\\ipykernel_launcher.py:13: SettingWithCopyWarning: \n",
      "A value is trying to be set on a copy of a slice from a DataFrame.\n",
      "Try using .loc[row_indexer,col_indexer] = value instead\n",
      "\n",
      "See the caveats in the documentation: http://pandas.pydata.org/pandas-docs/stable/indexing.html#indexing-view-versus-copy\n",
      "  del sys.path[0]\n",
      "D:\\Software\\Anaconda\\lib\\site-packages\\ipykernel_launcher.py:14: SettingWithCopyWarning: \n",
      "A value is trying to be set on a copy of a slice from a DataFrame.\n",
      "Try using .loc[row_indexer,col_indexer] = value instead\n",
      "\n",
      "See the caveats in the documentation: http://pandas.pydata.org/pandas-docs/stable/indexing.html#indexing-view-versus-copy\n",
      "  \n"
     ]
    }
   ],
   "source": [
    "y1_tr = [\"Negative\" if i <=2 else \"Positive\" for i in list(df_train[\"Score\"])]\n",
    "y2_tr = [\"Negative\" if i <=3 else \"Positive\" for i in list(df_train[\"Score\"])]\n",
    "y1_te = [\"Negative\" if i <=2 else \"Positive\" for i in list(df_test[\"Score\"])]\n",
    "y2_te = [\"Negative\" if i <=3 else \"Positive\" for i in list(df_test[\"Score\"])]\n",
    "\n",
    "print(y1_tr.count(\"Positive\"))\n",
    "print(y1_tr.count(\"Negative\"))\n",
    "print(y2_tr.count(\"Positive\"))\n",
    "print(y2_tr.count(\"Negative\"))\n",
    "\n",
    "df_train['Y1'] = y1_tr\n",
    "df_train['Y2'] = y2_tr\n",
    "df_test['Y1'] = y1_te\n",
    "df_test['Y2'] = y2_te\n"
   ]
  },
  {
   "cell_type": "code",
   "execution_count": 44,
   "metadata": {},
   "outputs": [],
   "source": [
    "# get X\n",
    "norm_reviews_train = list(df_train['Normalized_Text'].astype(str))\n",
    "norm_reviews_test = list(df_test['Normalized_Text'].astype(str))"
   ]
  },
  {
   "cell_type": "code",
   "execution_count": 45,
   "metadata": {},
   "outputs": [],
   "source": [
    "# TF-IDF (Term Frequency - Inverse Document Frequency) \n",
    "vectorizer = TfidfVectorizer(ngram_range = (1,2))   # 2-gram\n",
    "feature_matrix_TRAIN = vectorizer.fit_transform(norm_reviews_train).astype(float)\n",
    "\n",
    "vectorizer_alt = TfidfVectorizer(ngram_range = (1,1))   # one grame\n",
    "feature_matrix_TRAIN_alt = vectorizer_alt.fit_transform(norm_reviews_train).astype(float)"
   ]
  },
  {
   "cell_type": "code",
   "execution_count": 46,
   "metadata": {},
   "outputs": [
    {
     "data": {
      "text/plain": [
       "(5083, 136454)"
      ]
     },
     "execution_count": 46,
     "metadata": {},
     "output_type": "execute_result"
    }
   ],
   "source": [
    "feature_matrix_TRAIN.shape"
   ]
  },
  {
   "cell_type": "code",
   "execution_count": 47,
   "metadata": {},
   "outputs": [
    {
     "data": {
      "text/html": [
       "<div>\n",
       "<style scoped>\n",
       "    .dataframe tbody tr th:only-of-type {\n",
       "        vertical-align: middle;\n",
       "    }\n",
       "\n",
       "    .dataframe tbody tr th {\n",
       "        vertical-align: top;\n",
       "    }\n",
       "\n",
       "    .dataframe thead th {\n",
       "        text-align: right;\n",
       "    }\n",
       "</style>\n",
       "<table border=\"1\" class=\"dataframe\">\n",
       "  <thead>\n",
       "    <tr style=\"text-align: right;\">\n",
       "      <th></th>\n",
       "      <th>00am</th>\n",
       "      <th>00am 00pm</th>\n",
       "      <th>00pm</th>\n",
       "      <th>00pm est</th>\n",
       "      <th>0g</th>\n",
       "      <th>0g cholesterol</th>\n",
       "      <th>0g polyunsat</th>\n",
       "      <th>0g sodium</th>\n",
       "      <th>0g trans</th>\n",
       "      <th>0lp</th>\n",
       "      <th>...</th>\n",
       "      <th>zukes</th>\n",
       "      <th>zukes company</th>\n",
       "      <th>zukes mini</th>\n",
       "      <th>zukes treat</th>\n",
       "      <th>zumba</th>\n",
       "      <th>zumba class</th>\n",
       "      <th>zwieback</th>\n",
       "      <th>zwieback toast</th>\n",
       "      <th>zzzzzs</th>\n",
       "      <th>zzzzzs large</th>\n",
       "    </tr>\n",
       "  </thead>\n",
       "  <tbody>\n",
       "    <tr>\n",
       "      <th>0</th>\n",
       "      <td>0.0</td>\n",
       "      <td>0.0</td>\n",
       "      <td>0.0</td>\n",
       "      <td>0.0</td>\n",
       "      <td>0.0</td>\n",
       "      <td>0.0</td>\n",
       "      <td>0.0</td>\n",
       "      <td>0.0</td>\n",
       "      <td>0.0</td>\n",
       "      <td>0.0</td>\n",
       "      <td>...</td>\n",
       "      <td>0.0</td>\n",
       "      <td>0.0</td>\n",
       "      <td>0.0</td>\n",
       "      <td>0.0</td>\n",
       "      <td>0.0</td>\n",
       "      <td>0.0</td>\n",
       "      <td>0.0</td>\n",
       "      <td>0.0</td>\n",
       "      <td>0.0</td>\n",
       "      <td>0.0</td>\n",
       "    </tr>\n",
       "    <tr>\n",
       "      <th>1</th>\n",
       "      <td>0.0</td>\n",
       "      <td>0.0</td>\n",
       "      <td>0.0</td>\n",
       "      <td>0.0</td>\n",
       "      <td>0.0</td>\n",
       "      <td>0.0</td>\n",
       "      <td>0.0</td>\n",
       "      <td>0.0</td>\n",
       "      <td>0.0</td>\n",
       "      <td>0.0</td>\n",
       "      <td>...</td>\n",
       "      <td>0.0</td>\n",
       "      <td>0.0</td>\n",
       "      <td>0.0</td>\n",
       "      <td>0.0</td>\n",
       "      <td>0.0</td>\n",
       "      <td>0.0</td>\n",
       "      <td>0.0</td>\n",
       "      <td>0.0</td>\n",
       "      <td>0.0</td>\n",
       "      <td>0.0</td>\n",
       "    </tr>\n",
       "    <tr>\n",
       "      <th>2</th>\n",
       "      <td>0.0</td>\n",
       "      <td>0.0</td>\n",
       "      <td>0.0</td>\n",
       "      <td>0.0</td>\n",
       "      <td>0.0</td>\n",
       "      <td>0.0</td>\n",
       "      <td>0.0</td>\n",
       "      <td>0.0</td>\n",
       "      <td>0.0</td>\n",
       "      <td>0.0</td>\n",
       "      <td>...</td>\n",
       "      <td>0.0</td>\n",
       "      <td>0.0</td>\n",
       "      <td>0.0</td>\n",
       "      <td>0.0</td>\n",
       "      <td>0.0</td>\n",
       "      <td>0.0</td>\n",
       "      <td>0.0</td>\n",
       "      <td>0.0</td>\n",
       "      <td>0.0</td>\n",
       "      <td>0.0</td>\n",
       "    </tr>\n",
       "    <tr>\n",
       "      <th>3</th>\n",
       "      <td>0.0</td>\n",
       "      <td>0.0</td>\n",
       "      <td>0.0</td>\n",
       "      <td>0.0</td>\n",
       "      <td>0.0</td>\n",
       "      <td>0.0</td>\n",
       "      <td>0.0</td>\n",
       "      <td>0.0</td>\n",
       "      <td>0.0</td>\n",
       "      <td>0.0</td>\n",
       "      <td>...</td>\n",
       "      <td>0.0</td>\n",
       "      <td>0.0</td>\n",
       "      <td>0.0</td>\n",
       "      <td>0.0</td>\n",
       "      <td>0.0</td>\n",
       "      <td>0.0</td>\n",
       "      <td>0.0</td>\n",
       "      <td>0.0</td>\n",
       "      <td>0.0</td>\n",
       "      <td>0.0</td>\n",
       "    </tr>\n",
       "    <tr>\n",
       "      <th>4</th>\n",
       "      <td>0.0</td>\n",
       "      <td>0.0</td>\n",
       "      <td>0.0</td>\n",
       "      <td>0.0</td>\n",
       "      <td>0.0</td>\n",
       "      <td>0.0</td>\n",
       "      <td>0.0</td>\n",
       "      <td>0.0</td>\n",
       "      <td>0.0</td>\n",
       "      <td>0.0</td>\n",
       "      <td>...</td>\n",
       "      <td>0.0</td>\n",
       "      <td>0.0</td>\n",
       "      <td>0.0</td>\n",
       "      <td>0.0</td>\n",
       "      <td>0.0</td>\n",
       "      <td>0.0</td>\n",
       "      <td>0.0</td>\n",
       "      <td>0.0</td>\n",
       "      <td>0.0</td>\n",
       "      <td>0.0</td>\n",
       "    </tr>\n",
       "  </tbody>\n",
       "</table>\n",
       "<p>5 rows × 136454 columns</p>\n",
       "</div>"
      ],
      "text/plain": [
       "   00am  00am 00pm  00pm  00pm est   0g  0g cholesterol  0g polyunsat  \\\n",
       "0   0.0        0.0   0.0       0.0  0.0             0.0           0.0   \n",
       "1   0.0        0.0   0.0       0.0  0.0             0.0           0.0   \n",
       "2   0.0        0.0   0.0       0.0  0.0             0.0           0.0   \n",
       "3   0.0        0.0   0.0       0.0  0.0             0.0           0.0   \n",
       "4   0.0        0.0   0.0       0.0  0.0             0.0           0.0   \n",
       "\n",
       "   0g sodium  0g trans  0lp      ...       zukes  zukes company  zukes mini  \\\n",
       "0        0.0       0.0  0.0      ...         0.0            0.0         0.0   \n",
       "1        0.0       0.0  0.0      ...         0.0            0.0         0.0   \n",
       "2        0.0       0.0  0.0      ...         0.0            0.0         0.0   \n",
       "3        0.0       0.0  0.0      ...         0.0            0.0         0.0   \n",
       "4        0.0       0.0  0.0      ...         0.0            0.0         0.0   \n",
       "\n",
       "   zukes treat  zumba  zumba class  zwieback  zwieback toast  zzzzzs  \\\n",
       "0          0.0    0.0          0.0       0.0             0.0     0.0   \n",
       "1          0.0    0.0          0.0       0.0             0.0     0.0   \n",
       "2          0.0    0.0          0.0       0.0             0.0     0.0   \n",
       "3          0.0    0.0          0.0       0.0             0.0     0.0   \n",
       "4          0.0    0.0          0.0       0.0             0.0     0.0   \n",
       "\n",
       "   zzzzzs large  \n",
       "0           0.0  \n",
       "1           0.0  \n",
       "2           0.0  \n",
       "3           0.0  \n",
       "4           0.0  \n",
       "\n",
       "[5 rows x 136454 columns]"
      ]
     },
     "execution_count": 47,
     "metadata": {},
     "output_type": "execute_result"
    }
   ],
   "source": [
    "feature_matrix_TRAIN_names = vectorizer.get_feature_names() \n",
    "feature_matrix_TRAIN_table = pd.DataFrame(data = feature_matrix_TRAIN.todense(), \n",
    "                                          columns = feature_matrix_TRAIN_names)\n",
    "feature_matrix_TRAIN_table.head()"
   ]
  },
  {
   "cell_type": "code",
   "execution_count": 48,
   "metadata": {},
   "outputs": [],
   "source": [
    "feature_matrix_TEST = vectorizer.transform(norm_reviews_test)\n",
    "feature_matrix_TEST_alt = vectorizer_alt.transform(norm_reviews_test)"
   ]
  },
  {
   "cell_type": "markdown",
   "metadata": {},
   "source": [
    "### SVM using Y1"
   ]
  },
  {
   "cell_type": "code",
   "execution_count": 49,
   "metadata": {},
   "outputs": [],
   "source": [
    "from sklearn import linear_model\n",
    "sent_analysis_svm = linear_model.SGDClassifier(loss='hinge', random_state = 0) \n",
    "sent_analysis_svm.fit(feature_matrix_TRAIN, df_train['Y1'])\n",
    "predicted_svm = sent_analysis_svm.predict(feature_matrix_TEST)   # 2 gram prediction\n",
    "\n",
    "sent_analysis_svm_alt = linear_model.SGDClassifier(loss='hinge',random_state = 0) \n",
    "sent_analysis_svm_alt.fit(feature_matrix_TRAIN_alt, df_train['Y1'])\n",
    "predicted_svm_alt = sent_analysis_svm_alt.predict(feature_matrix_TEST_alt)    # 1 gram prediction"
   ]
  },
  {
   "cell_type": "code",
   "execution_count": 83,
   "metadata": {
    "scrolled": true
   },
   "outputs": [
    {
     "name": "stdout",
     "output_type": "stream",
     "text": [
      "Review:-\n",
      "At first, I thought my toy schnauzer had gotten into something that made her very sick but I took her off the Newman's Own anyway just to be safe (a decision made by my vet and I after I took her into the ER that night). I decided to try again a few days ago because it appears to be an excellent food (ingredient-wise) and we hadn't pinpointed the specific problem but, yet again, it wasn't even an hour before she was horribly sick and the effects of one feeding have lasted for days (Thank God I have medication left over from our last trip! I'm trying to avoid another vet visit but we're not in the clear yet). Even the stray cats on the block won't touch it and they pretty much eat anything. Definitely won't be trying it again.\n",
      "Actual Labeled Sentiment: Negative\n",
      "Actual Score: 1\n",
      "Predicted Sentiment: Positive\n",
      "\n",
      "Review:-\n",
      "I received this for a Christmas present. These are the red licorice ropes of your youth but BEWARE, they were so old and stale as to be inedible and had to throw out the box.\n",
      "Actual Labeled Sentiment: Negative\n",
      "Actual Score: 2\n",
      "Predicted Sentiment: Negative\n",
      "\n",
      "Review:-\n",
      "My three dogs love these. I usually give each of them one when our puppy displays the need to chew. He is teething and these have been great!! It also occupies the three of them for a long while as well as calming them down. They love all of the flavors!\n",
      "Actual Labeled Sentiment: Positive\n",
      "Actual Score: 5\n",
      "Predicted Sentiment: Positive\n",
      "\n",
      "Review:-\n",
      "I was excited about these and brought home one a few days. Loved that my husband and I could easily share this candy bar. But we were both ultimately disappointed. While there wasn't anything DIStasteful about these, they just kinda felll flatflavor-wise. The peanut butter was not pronounced at all and the chocolate coating seemed messier than on a regular Snickers. Overall they just tasted very sweet, but there was no real depth of flavor. If you're looking for peanut butter, go for the classic Reese's Cups. If it's Snickers you crave, then stick with the original. Our lesson learned!\n",
      "Actual Labeled Sentiment: Negative\n",
      "Actual Score: 2\n",
      "Predicted Sentiment: Positive\n",
      "\n",
      "Review:-\n",
      "A little bit more expensive than buying the standard size cans, but worth it for the \"no salt added\".  Don't miss the salt at all!\n",
      "Actual Labeled Sentiment: Positive\n",
      "Actual Score: 5\n",
      "Predicted Sentiment: Positive\n",
      "\n",
      "Review:-\n",
      "As others have pointed out, this tastes of BURNT bananas. Those who don't think so must have LOTS of dead taste buds or have a funky-taste fetish (it takes all-kinds to make a world).<br /><br />The bottom of the bars coloring looks suspiciously over-cooked, as well.<br /><br />Many people have come to the same conclusions on Amazon and other sites regarding the flavor of these things.<br /><br />I know, I know. Taste is subjective. As someone who enjoys bananas AND chocolate, this bars are an ultra-bummer.<br /><br />...tastes like they've burned the bananas and up-chucked in the chocolate. :-L\n",
      "Actual Labeled Sentiment: Negative\n",
      "Actual Score: 1\n",
      "Predicted Sentiment: Negative\n",
      "\n"
     ]
    }
   ],
   "source": [
    "sample_ids = [11,13,14,16,17,20] \n",
    "for doc_index in sample_ids:\n",
    "    print('Review:-')\n",
    "    print(np.array(df_test['Text'])[doc_index])\n",
    "    print('Actual Labeled Sentiment:', np.array(df_test['Y1'])[doc_index])\n",
    "    print(\"Actual Score:\", np.array(df_test['Score'])[doc_index])\n",
    "    print('Predicted Sentiment:', predicted_svm[doc_index])   \n",
    "    print()"
   ]
  },
  {
   "cell_type": "code",
   "execution_count": 51,
   "metadata": {},
   "outputs": [
    {
     "name": "stdout",
     "output_type": "stream",
     "text": [
      "Accuracy prediction, 2-gram SVM using Y1:  0.884\n",
      "Accuracy prediction, unigram SVM using Y1:  0.874\n",
      "Difference in accuracy prediction:  0.010000000000000009\n"
     ]
    }
   ],
   "source": [
    "svm_accuracy = np.round(metrics.accuracy_score(np.array(df_test['Y1']), predicted_svm), 3)\n",
    "svm_accuracy_alt = np.round(metrics.accuracy_score(np.array(df_test['Y1']), predicted_svm_alt), 3)\n",
    "delta_test = svm_accuracy - svm_accuracy_alt\n",
    "print(\"Accuracy prediction, 2-gram SVM using Y1: \", svm_accuracy)\n",
    "print(\"Accuracy prediction, unigram SVM using Y1: \", svm_accuracy_alt)\n",
    "print(\"Difference in accuracy prediction: \", delta_test)"
   ]
  },
  {
   "cell_type": "markdown",
   "metadata": {},
   "source": [
    "### SVM using Y2"
   ]
  },
  {
   "cell_type": "code",
   "execution_count": 52,
   "metadata": {},
   "outputs": [],
   "source": [
    "from sklearn import linear_model\n",
    "sent_analysis_svm = linear_model.SGDClassifier(loss='hinge', random_state = 0) \n",
    "sent_analysis_svm.fit(feature_matrix_TRAIN, df_train['Y2'])\n",
    "predicted_svm = sent_analysis_svm.predict(feature_matrix_TEST)   # 2 gram prediction\n",
    "\n",
    "sent_analysis_svm_alt = linear_model.SGDClassifier(loss='hinge',random_state = 0) \n",
    "sent_analysis_svm_alt.fit(feature_matrix_TRAIN_alt, df_train['Y2'])\n",
    "predicted_svm_alt = sent_analysis_svm_alt.predict(feature_matrix_TEST_alt)    # 1 gram prediction"
   ]
  },
  {
   "cell_type": "code",
   "execution_count": 53,
   "metadata": {
    "scrolled": true
   },
   "outputs": [
    {
     "name": "stdout",
     "output_type": "stream",
     "text": [
      "Review:-\n",
      "Delicious, not overly cloying sweet, perfectly balanced, good hazelnut flavor, not artificial.  Good concentration.  Husband loves it and since I bought it for him, that's what's important.  I'm not a hazelnut person but even I like it in iced coffee.  Husband likes it in iced and hot.\n",
      "Actual Labeled Sentiment: Positive\n",
      "Actual Score: 5\n",
      "Predicted Sentiment: Positive\n",
      "\n",
      "Review:-\n",
      "I bought this product in June and my children and I love it very much! It is so easy and fun to make that, although it isnt what I would call cheap-I do enjoy being able to order from time to time.<br /><br />When I last ordered this product from Amazon, the shipping was free, which is very important to me. If you are going to pay a little more for a product, it is good to be able to compensate by getting free shipping. I was sad to see that as of today, the shipping is $10.58. I just can not afford to pay so much for this product, even though we do love it. I am giving the sushi wraps a solid 5 star rating but the price plus the shipping 0 stars.\n",
      "Actual Labeled Sentiment: Positive\n",
      "Actual Score: 5\n",
      "Predicted Sentiment: Positive\n",
      "\n",
      "Review:-\n",
      "I was a bit worried about ordering a bouquet from Falcon Farms, because I had read so many bad reviews. But I have to say that the flowers arrived exactly when I wanted them to arrive (two days after placing the order), they were hand delivered and I was told that they were in perfectly good condition and looked beautiful. The only thing I don't know at this point is how long they will last. I would definitely use Facon Farms again.\n",
      "Actual Labeled Sentiment: Positive\n",
      "Actual Score: 5\n",
      "Predicted Sentiment: Positive\n",
      "\n",
      "Review:-\n",
      "I use this marinate mainly for chicken and flank steak.  When I come home from the supermarket I cut a flank steak in half and place the steak in a freezer bag along with the marinade.  Then when I want to use it I take it out of the freezer, let it thaw and place it on the grill.  It makes the best flank steak ever!\n",
      "Actual Labeled Sentiment: Positive\n",
      "Actual Score: 5\n",
      "Predicted Sentiment: Positive\n",
      "\n",
      "Review:-\n",
      "The fish is very light in color and flavor. It's steak-like and the can is jammed full of beautiful meat. I looks like they took the high quality tuna steak and cut it to the can, no doubt using the excess to go into chunk tuna. I've already eaten 3 of the 6 tins, and the quality is consistent. I will buy this again.\n",
      "Actual Labeled Sentiment: Positive\n",
      "Actual Score: 4\n",
      "Predicted Sentiment: Positive\n",
      "\n",
      "Review:-\n",
      "Bob's Red Mill Light  Spelt flour is much better than the regular spelt. It has a milder flavor and lighter color. My husband is highly allergic to numerous foods. Spelt is one of the few grains that he can eat. I use it in all my baking, for waffels, pancakes and as a thickner in gravy and sauces. Regular recipe ingredients need to be adjusted which I have done by trial and error. It usually takes a little less spelt or more liquids. I have not tried using spelt with yeast as my husband is allergic to yeast and sugar. I have been told it doesn't have enough gluten for the yeast. Try it-you might like it.\n",
      "Actual Labeled Sentiment: Positive\n",
      "Actual Score: 4\n",
      "Predicted Sentiment: Positive\n",
      "\n",
      "Review:-\n",
      "We really enjoy these crackers.  They have a great texture and cheezy flavor.  They remind me of those little cheese fish crackers.  This is a great choice now for us gluten free folks who struggle to find a good cracker.  Here it is!\n",
      "Actual Labeled Sentiment: Positive\n",
      "Actual Score: 5\n",
      "Predicted Sentiment: Positive\n",
      "\n",
      "Review:-\n",
      "Buying this coffee online makes sense if you want to buy in bulk and save time. Even though it is a matter of personal preference, I like the gourmet supreme variety.\n",
      "Actual Labeled Sentiment: Positive\n",
      "Actual Score: 5\n",
      "Predicted Sentiment: Positive\n",
      "\n",
      "Review:-\n",
      "I kept seeing these in the grocery store and was intrigued ever since. the best description I can make is that Krave cereal is Cocoa Puffs and Captain Crunch's love child. You get that delicious cocoa flavor, along with that chew that melts in your mouth thanks to the captain crunch. As a bonus, a little bit of chocolate stuffed inside begins to melt in your mouth shortly after.<br /><br />Not friendly for your waist line, that's for sure. These treats are full of sugary, chocolates goodness and are quite difficult to stop eating once you begin. If you don't care about how much you may potentially binge on, or if youre searching for a new sugary cereal with no nutritious value, then this is the cereal for you.\n",
      "Actual Labeled Sentiment: Positive\n",
      "Actual Score: 5\n",
      "Predicted Sentiment: Positive\n",
      "\n"
     ]
    }
   ],
   "source": [
    "sample_ids = [0,1,2,3,4,5,6,7,8] \n",
    "for doc_index in sample_ids:\n",
    "    print('Review:-')\n",
    "    print(np.array(df_test['Text'])[doc_index])\n",
    "    print('Actual Labeled Sentiment:', np.array(df_test['Y2'])[doc_index])\n",
    "    print(\"Actual Score:\", np.array(df_test['Score'])[doc_index])\n",
    "    print('Predicted Sentiment:', predicted_svm[doc_index])   \n",
    "    print()"
   ]
  },
  {
   "cell_type": "code",
   "execution_count": 54,
   "metadata": {},
   "outputs": [
    {
     "name": "stdout",
     "output_type": "stream",
     "text": [
      "Accuracy prediction, 2-gram SVM using Y2:  0.847\n",
      "Accuracy prediction, unigram SVM using Y2:  0.836\n",
      "Difference in accuracy prediction:  0.01100000000000001\n"
     ]
    }
   ],
   "source": [
    "svm_accuracy = np.round(metrics.accuracy_score(np.array(df_test['Y2']), predicted_svm), 3)\n",
    "svm_accuracy_alt = np.round(metrics.accuracy_score(np.array(df_test['Y2']), predicted_svm_alt), 3)\n",
    "delta_test = svm_accuracy - svm_accuracy_alt\n",
    "print(\"Accuracy prediction, 2-gram SVM using Y2: \", svm_accuracy)\n",
    "print(\"Accuracy prediction, unigram SVM using Y2: \", svm_accuracy_alt)\n",
    "print(\"Difference in accuracy prediction: \", delta_test)"
   ]
  },
  {
   "cell_type": "markdown",
   "metadata": {},
   "source": [
    "**Comment: looks like Y1 produce better results (accuracy) than Y2, and 2-gram SVM is better than the 1-gram SVM**"
   ]
  },
  {
   "cell_type": "markdown",
   "metadata": {},
   "source": [
    "### Bootstrapping for model comparison"
   ]
  },
  {
   "cell_type": "code",
   "execution_count": 65,
   "metadata": {},
   "outputs": [
    {
     "name": "stdout",
     "output_type": "stream",
     "text": [
      "Accuracy prediction, original:  0.884\n",
      "Accuracy prediction, alternative:  0.874\n",
      "Difference in accuracy prediction:  0.010000000000000009\n"
     ]
    }
   ],
   "source": [
    "# set up Y1 again\n",
    "from sklearn import linear_model\n",
    "sent_analysis_svm = linear_model.SGDClassifier(loss='hinge', random_state = 0) \n",
    "sent_analysis_svm.fit(feature_matrix_TRAIN, df_train['Y1'])\n",
    "predicted_svm = sent_analysis_svm.predict(feature_matrix_TEST)   # 2 gram prediction\n",
    "\n",
    "sent_analysis_svm_alt = linear_model.SGDClassifier(loss='hinge',random_state = 0) \n",
    "sent_analysis_svm_alt.fit(feature_matrix_TRAIN_alt, df_train['Y1'])\n",
    "predicted_svm_alt = sent_analysis_svm_alt.predict(feature_matrix_TEST_alt)    # 1 gram prediction\n",
    "\n",
    "# calculate delta_test\n",
    "svm_accuracy = np.round(metrics.accuracy_score(np.array(df_test['Y1']), predicted_svm), 3)\n",
    "svm_accuracy_alt = np.round(metrics.accuracy_score(np.array(df_test['Y1']), predicted_svm_alt), 3)\n",
    "delta_test = svm_accuracy - svm_accuracy_alt\n",
    "print(\"Accuracy prediction, original: \", svm_accuracy)\n",
    "print(\"Accuracy prediction, alternative: \", svm_accuracy_alt)\n",
    "print(\"Difference in accuracy prediction: \", delta_test)\n"
   ]
  },
  {
   "cell_type": "code",
   "execution_count": 66,
   "metadata": {},
   "outputs": [],
   "source": [
    "n_iterations = 1000\n",
    "n_size = 4000\n",
    "ids = range(4000)\n",
    "svm_accuracy_boot = list()\n",
    "svm_accuracy_boot_alt = list()\n",
    "s = 0\n",
    "\n",
    "for i in range(n_iterations):\n",
    "    \n",
    "    #prepare a pseudo test set\n",
    "    test_ids = resample(ids, n_samples = n_size)\n",
    "    actual_sentiments = np.array(df_test['Y1'])[test_ids]\n",
    "    \n",
    "    #compute predictions on the pseudo sample\n",
    "    svm_predicted = sent_analysis_svm.predict(feature_matrix_TEST[test_ids])\n",
    "    svm_predicted_alt = sent_analysis_svm_alt.predict(feature_matrix_TEST_alt[test_ids])\n",
    "    \n",
    "    #compute accuracy for the pseudo sample\n",
    "    svm_accuracy_boot_iter = metrics.accuracy_score(np.array(df_test['Y1'])[test_ids], svm_predicted)\n",
    "    svm_accuracy_boot_iter_alt = metrics.accuracy_score(np.array(df_test['Y1'])[test_ids], svm_predicted_alt)\n",
    "\n",
    "    delta = svm_accuracy_boot_iter - svm_accuracy_boot_iter_alt\n",
    "    \n",
    "    if delta > 1.5*delta_test:\n",
    "        s = s+1\n",
    "    \n",
    "    pvalue = float(s)/n_iterations\n",
    "    \n",
    "    svm_accuracy_boot.append(svm_accuracy_boot_iter)\n",
    "    svm_accuracy_boot_alt.append(svm_accuracy_boot_iter_alt)"
   ]
  },
  {
   "cell_type": "code",
   "execution_count": 67,
   "metadata": {},
   "outputs": [
    {
     "name": "stdout",
     "output_type": "stream",
     "text": [
      "p-value:  0.026\n",
      "Mean accuracy for Original Model:  0.885\n",
      "Mean accuracy for Alternative Model:  0.875\n"
     ]
    },
    {
     "data": {
      "image/png": "[encoded data removed]",
      "text/plain": [
       "<Figure size 432x288 with 1 Axes>"
      ]
     },
     "metadata": {
      "needs_background": "light"
     },
     "output_type": "display_data"
    },
    {
     "data": {
      "image/png": "[encoded data removed]",
      "text/plain": [
       "<Figure size 432x288 with 1 Axes>"
      ]
     },
     "metadata": {
      "needs_background": "light"
     },
     "output_type": "display_data"
    }
   ],
   "source": [
    "print('p-value: ', pvalue)\n",
    "print('Mean accuracy for Original Model: ', np.round(np.mean(svm_accuracy_boot),3))\n",
    "print('Mean accuracy for Alternative Model: ', np.round(np.mean(svm_accuracy_boot_alt),3))\n",
    "\n",
    "\n",
    "import matplotlib.pyplot as plt\n",
    "\n",
    "plt.hist(svm_accuracy_boot,bins = 30)\n",
    "plt.xlabel(\"distribution of accuracy rates\")\n",
    "plt.title(\"Original Model\")\n",
    "plt.show()\n",
    "\n",
    "plt.hist(svm_accuracy_boot_alt,bins = 30)\n",
    "plt.xlabel(\"distribution of accuracy rates\")\n",
    "plt.title(\"Alternative Model\")\n",
    "plt.show()"
   ]
  },
  {
   "cell_type": "code",
   "execution_count": 68,
   "metadata": {},
   "outputs": [
    {
     "name": "stdout",
     "output_type": "stream",
     "text": [
      "0.8849717500000001\n",
      "0.87510575\n"
     ]
    }
   ],
   "source": [
    "print(np.mean(svm_accuracy_boot))\n",
    "print(np.mean(svm_accuracy_boot_alt))"
   ]
  },
  {
   "cell_type": "markdown",
   "metadata": {},
   "source": [
    "**Comment: P-value suggests the probability to reject the null hypothesis that the original model (2-gram SVM) is no better than the second model (1-gram SVM). As we can see the 2-gram SVM model slightly outperform the 1-gram SVM model. But since we use a delta_test which is really small (delta_test=0.01) and we have a small p-value, there is actually no big difference between the mean accuracy of the first model and the second model. Plots also shows there is no essential difference in the accuracy between 1-gram SVM model and 2-gram SVM model.**"
   ]
  },
  {
   "cell_type": "markdown",
   "metadata": {},
   "source": [
    "### Try other models: logit, naive bayes"
   ]
  },
  {
   "cell_type": "code",
   "execution_count": 69,
   "metadata": {},
   "outputs": [],
   "source": [
    "logitmodel = linear_model.SGDClassifier(loss='log')\n",
    "logitmodel.fit(feature_matrix_TRAIN, df_train['Y1'])\n",
    "predicted_log = logitmodel.predict(feature_matrix_TEST)\n",
    "\n",
    "from sklearn.naive_bayes import MultinomialNB\n",
    "\n",
    "nbmodel = MultinomialNB(alpha=0.1) \n",
    "nbmodel.fit(feature_matrix_TRAIN, df_train['Y1'])\n",
    "predicted_nb = nbmodel.predict(feature_matrix_TEST)"
   ]
  },
  {
   "cell_type": "code",
   "execution_count": 70,
   "metadata": {},
   "outputs": [
    {
     "name": "stdout",
     "output_type": "stream",
     "text": [
      "Accuracy prediction, logit:  0.862\n",
      "Accuracy prediction, naive bayes:  0.85\n",
      "Difference in accuracy prediction between 2-gram svm vs. 2-gram logit:  0.02200000000000002\n",
      "Difference in accuracy prediction between 2-gram svm vs. 2-gram naive bayes:  0.03400000000000003\n"
     ]
    }
   ],
   "source": [
    "log_accuracy = np.round(metrics.accuracy_score(np.array(df_test['Y1']), predicted_log), 3)\n",
    "nb_accuracy = np.round(metrics.accuracy_score(np.array(df_test['Y1']), predicted_nb), 3)\n",
    "delta_test_svm_logit = svm_accuracy - log_accuracy\n",
    "delta_test_svm_nb = svm_accuracy - nb_accuracy\n",
    "print(\"Accuracy prediction, logit: \", log_accuracy)\n",
    "print(\"Accuracy prediction, naive bayes: \", nb_accuracy)\n",
    "print(\"Difference in accuracy prediction between 2-gram svm vs. 2-gram logit: \", delta_test_svm_logit)\n",
    "print(\"Difference in accuracy prediction between 2-gram svm vs. 2-gram naive bayes: \", delta_test_svm_nb)"
   ]
  },
  {
   "cell_type": "markdown",
   "metadata": {},
   "source": [
    "Two bootstrapping to compare with models:"
   ]
  },
  {
   "cell_type": "markdown",
   "metadata": {},
   "source": [
    "Compare 2-gram SVM to 2-gram Logit"
   ]
  },
  {
   "cell_type": "code",
   "execution_count": 71,
   "metadata": {},
   "outputs": [],
   "source": [
    "n_iterations = 1000\n",
    "n_size = 4000  # training data and test data size are both closed to 5000\n",
    "ids = range(4000)\n",
    "svm_accuracy_boot = list()\n",
    "log_accuracy_boot = list()\n",
    "s = 0\n",
    "\n",
    "for i in range(n_iterations):\n",
    "    \n",
    "    #prepare a pseudo test set\n",
    "    test_ids = resample(ids, n_samples = n_size)\n",
    "    actual_sentiments = np.array(df_test['Y1'])[test_ids]\n",
    "    \n",
    "    #compute predictions on the pseudo sample\n",
    "    svm_predicted = sent_analysis_svm.predict(feature_matrix_TEST[test_ids])\n",
    "    log_predicted = logitmodel.predict(feature_matrix_TEST[test_ids])\n",
    "    \n",
    "    #compute accuracy for the pseudo sample\n",
    "    svm_accuracy_boot_iter = metrics.accuracy_score(np.array(df_test['Y1'])[test_ids], svm_predicted)\n",
    "    logit_accuracy_boot_iter = metrics.accuracy_score(np.array(df_test['Y1'])[test_ids], log_predicted)\n",
    "\n",
    "    delta = svm_accuracy_boot_iter - logit_accuracy_boot_iter\n",
    "    \n",
    "    if delta > 1.5*delta_test_svm_logit:\n",
    "        s = s+1\n",
    "    \n",
    "    pvalue = float(s)/n_iterations\n",
    "    \n",
    "    svm_accuracy_boot.append(svm_accuracy_boot_iter)\n",
    "    log_accuracy_boot.append(logit_accuracy_boot_iter)"
   ]
  },
  {
   "cell_type": "code",
   "execution_count": 72,
   "metadata": {},
   "outputs": [
    {
     "name": "stdout",
     "output_type": "stream",
     "text": [
      "delta_test:  0.02200000000000002\n",
      "p-value:  0.0\n",
      "Mean accuracy for 2-gram SVM Model:  0.885\n",
      "Mean accuracy for 2-gram Logit Model:  0.865\n"
     ]
    },
    {
     "data": {
      "image/png": "[encoded data removed]",
      "text/plain": [
       "<Figure size 432x288 with 1 Axes>"
      ]
     },
     "metadata": {
      "needs_background": "light"
     },
     "output_type": "display_data"
    },
    {
     "data": {
      "image/png": "[encoded data removed]",
      "text/plain": [
       "<Figure size 432x288 with 1 Axes>"
      ]
     },
     "metadata": {
      "needs_background": "light"
     },
     "output_type": "display_data"
    }
   ],
   "source": [
    "print('delta_test: ', delta_test_svm_logit)\n",
    "print('p-value: ', pvalue)\n",
    "print('Mean accuracy for 2-gram SVM Model: ', np.round(np.mean(svm_accuracy_boot),3))\n",
    "print('Mean accuracy for 2-gram Logit Model: ', np.round(np.mean(log_accuracy_boot),3))\n",
    "\n",
    "\n",
    "import matplotlib.pyplot as plt\n",
    "\n",
    "plt.hist(svm_accuracy_boot,bins = 30)\n",
    "plt.xlabel(\"distribution of accuracy rates\")\n",
    "plt.title(\"2-gram SVM Model\")\n",
    "plt.show()\n",
    "\n",
    "plt.hist(log_accuracy_boot,bins = 30)\n",
    "plt.xlabel(\"distribution of accuracy rates\")\n",
    "plt.title(\"2-gram Logit Model\")\n",
    "plt.show()"
   ]
  },
  {
   "cell_type": "markdown",
   "metadata": {},
   "source": [
    "Compare 2-gram SVM to 2-gram naive bayes"
   ]
  },
  {
   "cell_type": "code",
   "execution_count": 86,
   "metadata": {},
   "outputs": [],
   "source": [
    "n_iterations = 1000\n",
    "n_size = 4000  # training data and test data size are both closed to 5000\n",
    "ids = range(4000)\n",
    "svm_accuracy_boot = list()\n",
    "nb_accuracy_boot = list()\n",
    "s = 0\n",
    "\n",
    "for i in range(n_iterations):\n",
    "    \n",
    "    #prepare a pseudo test set\n",
    "    test_ids = resample(ids, n_samples = n_size)\n",
    "    actual_sentiments = np.array(df_test['Y1'])[test_ids]\n",
    "    \n",
    "    #compute predictions on the pseudo sample\n",
    "    svm_predicted = sent_analysis_svm.predict(feature_matrix_TEST[test_ids])\n",
    "    nb_predicted = nbmodel.predict(feature_matrix_TEST[test_ids])\n",
    "    \n",
    "    #compute accuracy for the pseudo sample\n",
    "    svm_accuracy_boot_iter = metrics.accuracy_score(np.array(df_test['Y1'])[test_ids], svm_predicted)\n",
    "    nb_accuracy_boot_iter = metrics.accuracy_score(np.array(df_test['Y1'])[test_ids], nb_predicted)\n",
    "\n",
    "    delta = svm_accuracy_boot_iter - nb_accuracy_boot_iter\n",
    "    \n",
    "    if delta > 1.5*delta_test_svm_nb:\n",
    "        s = s+1\n",
    "    \n",
    "    pvalue = float(s)/n_iterations\n",
    "    \n",
    "    svm_accuracy_boot.append(svm_accuracy_boot_iter)\n",
    "    nb_accuracy_boot.append(nb_accuracy_boot_iter)"
   ]
  },
  {
   "cell_type": "code",
   "execution_count": 87,
   "metadata": {},
   "outputs": [
    {
     "name": "stdout",
     "output_type": "stream",
     "text": [
      "delta_test:  0.03400000000000003\n",
      "p-value:  0.0\n",
      "Mean accuracy for 2-gram SVM Model:  0.885\n",
      "Mean accuracy for 2-gram nb Model:  0.853\n"
     ]
    },
    {
     "data": {
      "image/png": "[encoded data removed]",
      "text/plain": [
       "<Figure size 432x288 with 1 Axes>"
      ]
     },
     "metadata": {
      "needs_background": "light"
     },
     "output_type": "display_data"
    },
    {
     "data": {
      "image/png": "[encoded data removed]",
      "text/plain": [
       "<Figure size 432x288 with 1 Axes>"
      ]
     },
     "metadata": {
      "needs_background": "light"
     },
     "output_type": "display_data"
    }
   ],
   "source": [
    "print('delta_test: ', delta_test_svm_nb)\n",
    "print('p-value: ', pvalue)\n",
    "print('Mean accuracy for 2-gram SVM Model: ', np.round(np.mean(svm_accuracy_boot),3))\n",
    "print('Mean accuracy for 2-gram nb Model: ', np.round(np.mean(nb_accuracy_boot),3))\n",
    "\n",
    "\n",
    "import matplotlib.pyplot as plt\n",
    "\n",
    "plt.hist(svm_accuracy_boot,bins = 30)\n",
    "plt.xlabel(\"distribution of accuracy rates\")\n",
    "plt.title(\"2-gram SVM Model\")\n",
    "plt.show()\n",
    "\n",
    "plt.hist(nb_accuracy_boot,bins = 30)\n",
    "plt.xlabel(\"distribution of accuracy rates\")\n",
    "plt.title(\"2-gram Naive Bayes Model\")\n",
    "plt.show()"
   ]
  },
  {
   "cell_type": "markdown",
   "metadata": {},
   "source": [
    "**Comment: in both bootstrapping tests, p-value are very small. There is not much evidence that 2-gram SVM is better than the logit and Naive bayes models. But the SVM model does appear to slightly outperform Naive bayes and logit model in accuracy score.**"
   ]
  },
  {
   "cell_type": "markdown",
   "metadata": {},
   "source": [
    "## Some result of SVM, logit model and Naive Bayes model"
   ]
  },
  {
   "cell_type": "code",
   "execution_count": 83,
   "metadata": {
    "scrolled": false
   },
   "outputs": [
    {
     "name": "stdout",
     "output_type": "stream",
     "text": [
      "Review:-\n",
      "At first, I thought my toy schnauzer had gotten into something that made her very sick but I took her off the Newman's Own anyway just to be safe (a decision made by my vet and I after I took her into the ER that night). I decided to try again a few days ago because it appears to be an excellent food (ingredient-wise) and we hadn't pinpointed the specific problem but, yet again, it wasn't even an hour before she was horribly sick and the effects of one feeding have lasted for days (Thank God I have medication left over from our last trip! I'm trying to avoid another vet visit but we're not in the clear yet). Even the stray cats on the block won't touch it and they pretty much eat anything. Definitely won't be trying it again.\n",
      "Actual Labeled Sentiment: Negative\n",
      "Actual Score: 1\n",
      "Predicted Sentiment: Positive\n",
      "\n",
      "Review:-\n",
      "I received this for a Christmas present. These are the red licorice ropes of your youth but BEWARE, they were so old and stale as to be inedible and had to throw out the box.\n",
      "Actual Labeled Sentiment: Negative\n",
      "Actual Score: 2\n",
      "Predicted Sentiment: Negative\n",
      "\n",
      "Review:-\n",
      "My three dogs love these. I usually give each of them one when our puppy displays the need to chew. He is teething and these have been great!! It also occupies the three of them for a long while as well as calming them down. They love all of the flavors!\n",
      "Actual Labeled Sentiment: Positive\n",
      "Actual Score: 5\n",
      "Predicted Sentiment: Positive\n",
      "\n",
      "Review:-\n",
      "I was excited about these and brought home one a few days. Loved that my husband and I could easily share this candy bar. But we were both ultimately disappointed. While there wasn't anything DIStasteful about these, they just kinda felll flatflavor-wise. The peanut butter was not pronounced at all and the chocolate coating seemed messier than on a regular Snickers. Overall they just tasted very sweet, but there was no real depth of flavor. If you're looking for peanut butter, go for the classic Reese's Cups. If it's Snickers you crave, then stick with the original. Our lesson learned!\n",
      "Actual Labeled Sentiment: Negative\n",
      "Actual Score: 2\n",
      "Predicted Sentiment: Positive\n",
      "\n",
      "Review:-\n",
      "A little bit more expensive than buying the standard size cans, but worth it for the \"no salt added\".  Don't miss the salt at all!\n",
      "Actual Labeled Sentiment: Positive\n",
      "Actual Score: 5\n",
      "Predicted Sentiment: Positive\n",
      "\n",
      "Review:-\n",
      "As others have pointed out, this tastes of BURNT bananas. Those who don't think so must have LOTS of dead taste buds or have a funky-taste fetish (it takes all-kinds to make a world).<br /><br />The bottom of the bars coloring looks suspiciously over-cooked, as well.<br /><br />Many people have come to the same conclusions on Amazon and other sites regarding the flavor of these things.<br /><br />I know, I know. Taste is subjective. As someone who enjoys bananas AND chocolate, this bars are an ultra-bummer.<br /><br />...tastes like they've burned the bananas and up-chucked in the chocolate. :-L\n",
      "Actual Labeled Sentiment: Negative\n",
      "Actual Score: 1\n",
      "Predicted Sentiment: Negative\n",
      "\n"
     ]
    }
   ],
   "source": [
    "sample_ids = [11,13,14,16,17,20] \n",
    "for doc_index in sample_ids:\n",
    "    print('Review:-')\n",
    "    print(np.array(df_test['Text'])[doc_index])\n",
    "    print('Actual Labeled Sentiment:', np.array(df_test['Y1'])[doc_index])\n",
    "    print(\"Actual Score:\", np.array(df_test['Score'])[doc_index])\n",
    "    print('Predicted Sentiment:', predicted_svm[doc_index])   \n",
    "    print()"
   ]
  },
  {
   "cell_type": "code",
   "execution_count": 84,
   "metadata": {},
   "outputs": [
    {
     "name": "stdout",
     "output_type": "stream",
     "text": [
      "Review:-\n",
      "At first, I thought my toy schnauzer had gotten into something that made her very sick but I took her off the Newman's Own anyway just to be safe (a decision made by my vet and I after I took her into the ER that night). I decided to try again a few days ago because it appears to be an excellent food (ingredient-wise) and we hadn't pinpointed the specific problem but, yet again, it wasn't even an hour before she was horribly sick and the effects of one feeding have lasted for days (Thank God I have medication left over from our last trip! I'm trying to avoid another vet visit but we're not in the clear yet). Even the stray cats on the block won't touch it and they pretty much eat anything. Definitely won't be trying it again.\n",
      "Actual Labeled Sentiment: Negative\n",
      "Actual Score: 1\n",
      "Predicted Sentiment: Positive\n",
      "\n",
      "Review:-\n",
      "I received this for a Christmas present. These are the red licorice ropes of your youth but BEWARE, they were so old and stale as to be inedible and had to throw out the box.\n",
      "Actual Labeled Sentiment: Negative\n",
      "Actual Score: 2\n",
      "Predicted Sentiment: Negative\n",
      "\n",
      "Review:-\n",
      "My three dogs love these. I usually give each of them one when our puppy displays the need to chew. He is teething and these have been great!! It also occupies the three of them for a long while as well as calming them down. They love all of the flavors!\n",
      "Actual Labeled Sentiment: Positive\n",
      "Actual Score: 5\n",
      "Predicted Sentiment: Positive\n",
      "\n",
      "Review:-\n",
      "I was excited about these and brought home one a few days. Loved that my husband and I could easily share this candy bar. But we were both ultimately disappointed. While there wasn't anything DIStasteful about these, they just kinda felll flatflavor-wise. The peanut butter was not pronounced at all and the chocolate coating seemed messier than on a regular Snickers. Overall they just tasted very sweet, but there was no real depth of flavor. If you're looking for peanut butter, go for the classic Reese's Cups. If it's Snickers you crave, then stick with the original. Our lesson learned!\n",
      "Actual Labeled Sentiment: Negative\n",
      "Actual Score: 2\n",
      "Predicted Sentiment: Positive\n",
      "\n",
      "Review:-\n",
      "A little bit more expensive than buying the standard size cans, but worth it for the \"no salt added\".  Don't miss the salt at all!\n",
      "Actual Labeled Sentiment: Positive\n",
      "Actual Score: 5\n",
      "Predicted Sentiment: Positive\n",
      "\n",
      "Review:-\n",
      "As others have pointed out, this tastes of BURNT bananas. Those who don't think so must have LOTS of dead taste buds or have a funky-taste fetish (it takes all-kinds to make a world).<br /><br />The bottom of the bars coloring looks suspiciously over-cooked, as well.<br /><br />Many people have come to the same conclusions on Amazon and other sites regarding the flavor of these things.<br /><br />I know, I know. Taste is subjective. As someone who enjoys bananas AND chocolate, this bars are an ultra-bummer.<br /><br />...tastes like they've burned the bananas and up-chucked in the chocolate. :-L\n",
      "Actual Labeled Sentiment: Negative\n",
      "Actual Score: 1\n",
      "Predicted Sentiment: Negative\n",
      "\n"
     ]
    }
   ],
   "source": [
    "sample_ids = [11,13,14,16,17,20] \n",
    "for doc_index in sample_ids:\n",
    "    print('Review:-')\n",
    "    print(np.array(df_test['Text'])[doc_index])\n",
    "    print('Actual Labeled Sentiment:', np.array(df_test['Y1'])[doc_index])\n",
    "    print(\"Actual Score:\", np.array(df_test['Score'])[doc_index])\n",
    "    print('Predicted Sentiment:', predicted_log[doc_index])   \n",
    "    print()"
   ]
  },
  {
   "cell_type": "code",
   "execution_count": 85,
   "metadata": {
    "scrolled": false
   },
   "outputs": [
    {
     "name": "stdout",
     "output_type": "stream",
     "text": [
      "Review:-\n",
      "At first, I thought my toy schnauzer had gotten into something that made her very sick but I took her off the Newman's Own anyway just to be safe (a decision made by my vet and I after I took her into the ER that night). I decided to try again a few days ago because it appears to be an excellent food (ingredient-wise) and we hadn't pinpointed the specific problem but, yet again, it wasn't even an hour before she was horribly sick and the effects of one feeding have lasted for days (Thank God I have medication left over from our last trip! I'm trying to avoid another vet visit but we're not in the clear yet). Even the stray cats on the block won't touch it and they pretty much eat anything. Definitely won't be trying it again.\n",
      "Actual Labeled Sentiment: Negative\n",
      "Actual Score: 1\n",
      "Predicted Sentiment: Positive\n",
      "\n",
      "Review:-\n",
      "I received this for a Christmas present. These are the red licorice ropes of your youth but BEWARE, they were so old and stale as to be inedible and had to throw out the box.\n",
      "Actual Labeled Sentiment: Negative\n",
      "Actual Score: 2\n",
      "Predicted Sentiment: Positive\n",
      "\n",
      "Review:-\n",
      "My three dogs love these. I usually give each of them one when our puppy displays the need to chew. He is teething and these have been great!! It also occupies the three of them for a long while as well as calming them down. They love all of the flavors!\n",
      "Actual Labeled Sentiment: Positive\n",
      "Actual Score: 5\n",
      "Predicted Sentiment: Positive\n",
      "\n",
      "Review:-\n",
      "I was excited about these and brought home one a few days. Loved that my husband and I could easily share this candy bar. But we were both ultimately disappointed. While there wasn't anything DIStasteful about these, they just kinda felll flatflavor-wise. The peanut butter was not pronounced at all and the chocolate coating seemed messier than on a regular Snickers. Overall they just tasted very sweet, but there was no real depth of flavor. If you're looking for peanut butter, go for the classic Reese's Cups. If it's Snickers you crave, then stick with the original. Our lesson learned!\n",
      "Actual Labeled Sentiment: Negative\n",
      "Actual Score: 2\n",
      "Predicted Sentiment: Positive\n",
      "\n",
      "Review:-\n",
      "A little bit more expensive than buying the standard size cans, but worth it for the \"no salt added\".  Don't miss the salt at all!\n",
      "Actual Labeled Sentiment: Positive\n",
      "Actual Score: 5\n",
      "Predicted Sentiment: Positive\n",
      "\n",
      "Review:-\n",
      "As others have pointed out, this tastes of BURNT bananas. Those who don't think so must have LOTS of dead taste buds or have a funky-taste fetish (it takes all-kinds to make a world).<br /><br />The bottom of the bars coloring looks suspiciously over-cooked, as well.<br /><br />Many people have come to the same conclusions on Amazon and other sites regarding the flavor of these things.<br /><br />I know, I know. Taste is subjective. As someone who enjoys bananas AND chocolate, this bars are an ultra-bummer.<br /><br />...tastes like they've burned the bananas and up-chucked in the chocolate. :-L\n",
      "Actual Labeled Sentiment: Negative\n",
      "Actual Score: 1\n",
      "Predicted Sentiment: Positive\n",
      "\n"
     ]
    }
   ],
   "source": [
    "sample_ids = [11,13,14,16,17,20] \n",
    "for doc_index in sample_ids:\n",
    "    print('Review:-')\n",
    "    print(np.array(df_test['Text'])[doc_index])\n",
    "    print('Actual Labeled Sentiment:', np.array(df_test['Y1'])[doc_index])\n",
    "    print(\"Actual Score:\", np.array(df_test['Score'])[doc_index])\n",
    "    print('Predicted Sentiment:', predicted_nb[doc_index])   \n",
    "    print()"
   ]
  },
  {
   "cell_type": "code",
   "execution_count": null,
   "metadata": {},
   "outputs": [],
   "source": []
  }
 ],
 "metadata": {
  "kernelspec": {
   "display_name": "Python 3",
   "language": "python",
   "name": "python3"
  },
  "language_info": {
   "codemirror_mode": {
    "name": "ipython",
    "version": 3
   },
   "file_extension": ".py",
   "mimetype": "text/x-python",
   "name": "python",
   "nbconvert_exporter": "python",
   "pygments_lexer": "ipython3",
   "version": "3.6.4"
  }
 },
 "nbformat": 4,
 "nbformat_minor": 2
}
